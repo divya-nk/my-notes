{
 "cells": [
  {
   "cell_type": "markdown",
   "metadata": {},
   "source": [
    "Ref: https://www.dataquest.io/blog/python-api-tutorial/\n",
    "\n",
    "A baseurl and it can have several 'endpoints'\n",
    "\n",
    "#### *Status codes*\n",
    "some codes that are relevant to GET requests:\n",
    "\n",
    "* 200 -- everything went okay, and the result has been returned (if any)\n",
    "* 301 -- the server is redirecting you to a different endpoint. This can happen when a company switches domain names, or an endpoint name is changed.\n",
    "* 401 -- the server thinks you're not authenticated. This happens when you don't send the right credentials to access an API (we'll talk about authentication in a later post).\n",
    "* 400 -- the server thinks you made a bad request. This can happen when you don't send along the right data, among other things.\n",
    "* 403 -- the resource you're trying to access is forbidden -- you don't have the right permissions to see it.\n",
    "* 404 -- the resource you tried to access wasn't found on the server."
   ]
  },
  {
   "cell_type": "code",
   "execution_count": 4,
   "metadata": {},
   "outputs": [
    {
     "name": "stdout",
     "output_type": "stream",
     "text": [
      "<Response [404]>\n",
      "<Response [400]>\n"
     ]
    }
   ],
   "source": [
    "import requests\n",
    "\n",
    "baseurl = \"http://api.open-notify.org\"\n",
    "endpoint = \"iss-pass\"\n",
    "response = requests.get(\"{}/{}\".format(baseurl, endpoint))\n",
    "print(response) # <Response [404]>\n",
    "\n",
    "response = requests.get(\"{}/{}.json\".format(baseurl, endpoint))\n",
    "print(response) # <Response [400]>\n",
    "\n",
    "response = requests.get(\"{}/{}.json\".format(baseurl, endpoint))\n",
    "print(response) # <Response [400]>"
   ]
  },
  {
   "cell_type": "markdown",
   "metadata": {},
   "source": [
    "#### Preferable to setup the parameters as a dictionary"
   ]
  },
  {
   "cell_type": "code",
   "execution_count": 7,
   "metadata": {},
   "outputs": [
    {
     "name": "stdout",
     "output_type": "stream",
     "text": [
      "b'{\\n  \"message\": \"success\", \\n  \"request\": {\\n    \"altitude\": 100, \\n    \"datetime\": 1548344294, \\n    \"latitude\": 40.71, \\n    \"longitude\": -74.0, \\n    \"passes\": 5\\n  }, \\n  \"response\": [\\n    {\\n      \"duration\": 484, \\n      \"risetime\": 1548364834\\n    }, \\n    {\\n      \"duration\": 644, \\n      \"risetime\": 1548370514\\n    }, \\n    {\\n      \"duration\": 598, \\n      \"risetime\": 1548376349\\n    }, \\n    {\\n      \"duration\": 551, \\n      \"risetime\": 1548382224\\n    }, \\n    {\\n      \"duration\": 605, \\n      \"risetime\": 1548388045\\n    }\\n  ]\\n}\\n'\n",
      "\n",
      "b'{\\n  \"message\": \"success\", \\n  \"request\": {\\n    \"altitude\": 100, \\n    \"datetime\": 1548344294, \\n    \"latitude\": 40.71, \\n    \"longitude\": -74.0, \\n    \"passes\": 5\\n  }, \\n  \"response\": [\\n    {\\n      \"duration\": 484, \\n      \"risetime\": 1548364834\\n    }, \\n    {\\n      \"duration\": 644, \\n      \"risetime\": 1548370514\\n    }, \\n    {\\n      \"duration\": 598, \\n      \"risetime\": 1548376349\\n    }, \\n    {\\n      \"duration\": 551, \\n      \"risetime\": 1548382224\\n    }, \\n    {\\n      \"duration\": 605, \\n      \"risetime\": 1548388045\\n    }\\n  ]\\n}\\n'\n"
     ]
    }
   ],
   "source": [
    "# Set up the parameters we want to pass to the API.\n",
    "# This is the latitude and longitude of New York City.\n",
    "parameters = {\"lat\": 40.71, \"lon\": -74}\n",
    "\n",
    "# Make a get request with the parameters.\n",
    "response = requests.get(\"http://api.open-notify.org/iss-pass.json\", params=parameters)\n",
    "\n",
    "# Print the content of the response (the data the server returned)\n",
    "print(response.content)\n",
    "\n",
    "# This gets the same data as the command above\n",
    "response = requests.get(\"http://api.open-notify.org/iss-pass.json?lat=40.71&lon=-74\")\n",
    "print('')\n",
    "print(response.content)"
   ]
  },
  {
   "cell_type": "markdown",
   "metadata": {},
   "source": [
    "Use *response.content.decode(\"utf-8\")* if we can the 'bytes' object to be converted to 'string'"
   ]
  },
  {
   "cell_type": "markdown",
   "metadata": {},
   "source": [
    "#### Working with JSON\n",
    "\n",
    "The json library has two main methods:\n",
    "\n",
    "* dumps -- Takes in a Python object, and converts it to a string.\n",
    "* loads -- Takes a JSON string, and converts it to a Python object."
   ]
  },
  {
   "cell_type": "code",
   "execution_count": 13,
   "metadata": {},
   "outputs": [
    {
     "name": "stdout",
     "output_type": "stream",
     "text": [
      "<class 'list'>\n",
      "['Taco Bell', 'Shake Shack', 'Chipotle']\n",
      "[\"Taco Bell\", \"Shake Shack\", \"Chipotle\"]\n",
      "<class 'str'>\n",
      "<class 'list'>\n",
      "['Taco Bell', 'Shake Shack', 'Chipotle']\n",
      "{'Subway': 24722, 'McDonalds': 14098, 'Starbucks': 10821, 'Pizza Hut': 7600}\n",
      "{\"Subway\": 24722, \"McDonalds\": 14098, \"Starbucks\": 10821, \"Pizza Hut\": 7600}\n",
      "<class 'str'>\n"
     ]
    }
   ],
   "source": [
    "# Make a list of fast food chains.\n",
    "best_food_chains = [\"Taco Bell\", \"Shake Shack\", \"Chipotle\"]\n",
    "\n",
    "# This is a list.\n",
    "print(type(best_food_chains))          #<class 'list'>\n",
    "print(best_food_chains)                #['Taco Bell', 'Shake Shack', 'Chipotle']\n",
    "\n",
    "# Import the json library\n",
    "import json\n",
    "\n",
    "# Use json.dumps to convert best_food_chains to a string.\n",
    "best_food_chains_string = json.dumps(best_food_chains)\n",
    "\n",
    "# We've successfully converted our list to a string.\n",
    "print(best_food_chains_string)         # [\"Taco Bell\", \"Shake Shack\", \"Chipotle\"]\n",
    "print(type(best_food_chains_string))   # <class 'str'>\n",
    "\n",
    "# Convert best_food_chains_string back into a list\n",
    "print(type(json.loads(best_food_chains_string)))  # <class 'list'>\n",
    "print(json.loads(best_food_chains_string))    # ['Taco Bell', 'Shake Shack', 'Chipotle']\n",
    "\n",
    "# Make a dictionary\n",
    "fast_food_franchise = {\n",
    "    \"Subway\": 24722,\n",
    "    \"McDonalds\": 14098,\n",
    "    \"Starbucks\": 10821,\n",
    "    \"Pizza Hut\": 7600\n",
    "}\n",
    "\n",
    "# We can also dump a dictionary to a string and load it.\n",
    "fast_food_franchise_string = json.dumps(fast_food_franchise)\n",
    "print(fast_food_franchise)               # {'Subway': 24722, 'McDonalds': 14098, 'Starbucks': 10821, 'Pizza Hut': 7600}\n",
    "print(fast_food_franchise_string)        #{\"Subway\": 24722, \"McDonalds\": 14098, \"Starbucks\": 10821, \"Pizza Hut\": 7600}\n",
    "print(type(fast_food_franchise_string))  #<class 'str'>\n"
   ]
  },
  {
   "cell_type": "markdown",
   "metadata": {},
   "source": [
    "#### Retrieving JSON from API"
   ]
  },
  {
   "cell_type": "code",
   "execution_count": 14,
   "metadata": {},
   "outputs": [
    {
     "name": "stdout",
     "output_type": "stream",
     "text": [
      "<class 'dict'>\n",
      "{'message': 'success', 'request': {'altitude': 100, 'datetime': 1548345894, 'latitude': 37.78, 'longitude': -122.41, 'passes': 5}, 'response': [{'duration': 508, 'risetime': 1548375892}, {'duration': 644, 'risetime': 1548381590}, {'duration': 560, 'risetime': 1548387454}, {'duration': 477, 'risetime': 1548393362}, {'duration': 557, 'risetime': 1548399189}]}\n"
     ]
    }
   ],
   "source": [
    "# Make the same request we did earlier, but with the coordinates of San Francisco instead.\n",
    "parameters = {\"lat\": 37.78, \"lon\": -122.41}\n",
    "response = requests.get(\"http://api.open-notify.org/iss-pass.json\", params=parameters)\n",
    "\n",
    "# Get the response data as a python object.  Verify that it's a dictionary.\n",
    "data = response.json()\n",
    "print(type(data))\n",
    "print(data)"
   ]
  },
  {
   "cell_type": "markdown",
   "metadata": {},
   "source": [
    "#### Headers and content type\n",
    "\n",
    "Within the headers, content-type tells us the format of the response, and how to decode it. For the OpenNotify API, the format is JSON, which is why we could decode it with the json package earlier."
   ]
  },
  {
   "cell_type": "code",
   "execution_count": 16,
   "metadata": {},
   "outputs": [
    {
     "name": "stdout",
     "output_type": "stream",
     "text": [
      "{'Server': 'nginx/1.10.3', 'Date': 'Thu, 24 Jan 2019 16:04:55 GMT', 'Content-Type': 'application/json', 'Content-Length': '521', 'Connection': 'keep-alive', 'Via': '1.1 vegur'}\n",
      "application/json\n"
     ]
    }
   ],
   "source": [
    "print(response.headers)\n",
    "print(response.headers[\"content-type\"]) #Since, headers is a dict"
   ]
  },
  {
   "cell_type": "code",
   "execution_count": null,
   "metadata": {},
   "outputs": [],
   "source": []
  }
 ],
 "metadata": {
  "kernelspec": {
   "display_name": "Python 3",
   "language": "python",
   "name": "python3"
  },
  "language_info": {
   "codemirror_mode": {
    "name": "ipython",
    "version": 3
   },
   "file_extension": ".py",
   "mimetype": "text/x-python",
   "name": "python",
   "nbconvert_exporter": "python",
   "pygments_lexer": "ipython3",
   "version": "3.7.0"
  }
 },
 "nbformat": 4,
 "nbformat_minor": 2
}
