{
 "cells": [
  {
   "cell_type": "markdown",
   "metadata": {},
   "source": [
    "#### List all files in a folder (recursively)"
   ]
  },
  {
   "cell_type": "code",
   "execution_count": null,
   "metadata": {
    "collapsed": true
   },
   "outputs": [],
   "source": [
    "import os\n",
    "\n",
    "dir_str ='PDF-files/first100'\n",
    "\n",
    "for subdir, dirs, files in os.walk(dir_str):\n",
    "    for file in files:\n",
    "        filepath=subdir+os.sep+file\n",
    "        if filepath.endswith(\".pdf\"): #filter specific format\n",
    "            print(filepath)\n",
    "            print(file)\n",
    "        else:\n",
    "            pass"
   ]
  },
  {
   "cell_type": "markdown",
   "metadata": {},
   "source": [
    "#### PDF to text"
   ]
  },
  {
   "cell_type": "code",
   "execution_count": null,
   "metadata": {
    "collapsed": true
   },
   "outputs": [],
   "source": [
    "from pdfminer.pdfinterp import PDFResourceManager, PDFPageInterpreter\n",
    "from pdfminer.converter import TextConverter\n",
    "from pdfminer.layout import LAParams\n",
    "from pdfminer.pdfpage import PDFPage\n",
    "from cStringIO import StringIO\n",
    "\n",
    "fileLocation = 'filename.pdf'\n",
    "\n",
    "def convert_pdf_to_txt(path):\n",
    "    rsrcmgr = PDFResourceManager()\n",
    "    retstr = StringIO()\n",
    "    codec = 'utf-8'\n",
    "    laparams = LAParams()\n",
    "    device = TextConverter(rsrcmgr, retstr, codec=codec, laparams=laparams)\n",
    "    fp = open(path, 'rb')\n",
    "    interpreter = PDFPageInterpreter(rsrcmgr, device)\n",
    "    password = \"\"\n",
    "    maxpages = 0\n",
    "    caching = True\n",
    "    pagenos=set()\n",
    "    for page in PDFPage.get_pages(fp, pagenos, maxpages=maxpages,password=password,caching=caching, check_extractable=True):\n",
    "\n",
    "        interpreter.process_page(page)\n",
    "\n",
    "    text = retstr.getvalue()\n",
    "\n",
    "    fp.close()\n",
    "    device.close()\n",
    "    retstr.close()\n",
    "    return text\n",
    "\n",
    "data = convert_pdf_to_txt(fileLocation)"
   ]
  },
  {
   "cell_type": "markdown",
   "metadata": {},
   "source": [
    "#### Download and save pdfs from url"
   ]
  },
  {
   "cell_type": "code",
   "execution_count": null,
   "metadata": {
    "collapsed": true
   },
   "outputs": [],
   "source": [
    "import urllib.request\n",
    "import csv\n",
    "import time\n",
    "\n",
    "url = \"https://lpintra.bmwgroup.net:5857/zeus/servlet/doc?documentId=\"\n",
    "\n",
    "with open(\"doc-file-tab-100-2.csv\", 'r') as csvfile:\n",
    "    reader = csv.reader(csvfile, delimiter=',')\n",
    "    for row in reader:\n",
    "        if row[0].isdigit():\n",
    "            print(\"Download starting...: {}.pdf\", format(row[0]))\n",
    "            file = urllib.request.urlopen(url+row[0])\n",
    "            data = file.read()\n",
    "            with open(\"PDF-files/\"+row[0]+\".pdf\", \"wb\") as f:\n",
    "                f.write(data)\n",
    "            time.sleep(9)\n",
    "\n",
    "        else: pass\n",
    "print('eol')"
   ]
  },
  {
   "cell_type": "markdown",
   "metadata": {},
   "source": [
    "#### scp commands\n",
    "http://www.hypexr.org/linux_scp_help.php"
   ]
  },
  {
   "cell_type": "code",
   "execution_count": null,
   "metadata": {
    "collapsed": true
   },
   "outputs": [],
   "source": [
    "#### count the number of files in a folder\n",
    "ls -F |grep -v / | wc -l\n",
    "\n",
    "### list recently modified files in a folder:\n",
    "find /target_directory/ -type f -mmin -60"
   ]
  },
  {
   "cell_type": "code",
   "execution_count": null,
   "metadata": {
    "collapsed": true
   },
   "outputs": [],
   "source": [
    "#proxy issues\n",
    "echo $no_proxy #if only localhost exist, then add required url\n",
    "export no_proxy=\"localhost,lpintra.bmwgroup.net\"\n",
    "echo $no_proxy # check if its added, should be : localhost,lpintra.bmwgroup.net"
   ]
  },
  {
   "cell_type": "code",
   "execution_count": null,
   "metadata": {
    "collapsed": true
   },
   "outputs": [],
   "source": [
    "jupyter notebook --no-browser --ip=0.0.0.0 --port=8450\n",
    "\n",
    "#### Remote Access to IPython Notebooks via\n",
    "\n",
    "local_user@local_host$ ssh -N -f -L localhost:8888:localhost:8889 remote_user@remote_host\n",
    "# eg. ssh -N -L localhost:8450:0.0.0.0:8450 qxt8095@172.29.100.75\n",
    "            \n",
    "# -N tells SSH that no remote commands will be executed, and is useful for port forwarding. \n",
    "# -f has the effect that SSH will go to background, so the local tunnel-enabling terminal remains usable. \n",
    "# -L lists the port forwarding configuration (remote port 8889 to local port 8888).\n",
    "\n",
    "#To close the SSH tunnel on the local machine, look for the process and kill it manually:\n",
    "\n",
    "local_user@local_host$ ps aux | grep localhost:8889\n",
    "local_user 18418  0.0  0.0  41488   684 ?        Ss   17:27   0:00 ssh -N -f -L localhost:8888:localhost:8889 remote_user@remote_host\n",
    "local_user 18424  0.0  0.0  11572   932 pts/6    S+   17:27   0:00 grep localhost:8889\n",
    "\n",
    "local_user@local_host$ kill -15 18418"
   ]
  }
 ],
 "metadata": {
  "kernelspec": {
   "display_name": "Python 3",
   "language": "python",
   "name": "python3"
  },
  "language_info": {
   "codemirror_mode": {
    "name": "ipython",
    "version": 3
   },
   "file_extension": ".py",
   "mimetype": "text/x-python",
   "name": "python",
   "nbconvert_exporter": "python",
   "pygments_lexer": "ipython3",
   "version": "3.6.3"
  }
 },
 "nbformat": 4,
 "nbformat_minor": 2
}
